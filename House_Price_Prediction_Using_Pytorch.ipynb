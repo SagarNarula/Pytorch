{
  "nbformat": 4,
  "nbformat_minor": 0,
  "metadata": {
    "colab": {
      "name": "House Price Prediction Using Pytorch.ipynb",
      "provenance": [],
      "authorship_tag": "ABX9TyPRPlEILDcGh/WemH6sMwkQ"
    },
    "kernelspec": {
      "name": "python3",
      "display_name": "Python 3"
    }
  },
  "cells": [
    {
      "cell_type": "code",
      "metadata": {
        "id": "9NvXzHX0G2sp",
        "colab_type": "code",
        "colab": {
          "base_uri": "https://localhost:8080/",
          "height": 54
        },
        "outputId": "92b001ee-a93c-4fdb-9946-ac3c36b818bf"
      },
      "source": [
        "from google.colab import drive\n",
        "drive.mount('/content/gdrive')"
      ],
      "execution_count": 41,
      "outputs": [
        {
          "output_type": "stream",
          "text": [
            "Drive already mounted at /content/gdrive; to attempt to forcibly remount, call drive.mount(\"/content/gdrive\", force_remount=True).\n"
          ],
          "name": "stdout"
        }
      ]
    },
    {
      "cell_type": "code",
      "metadata": {
        "id": "h5Mo0HlLHSZr",
        "colab_type": "code",
        "colab": {
          "base_uri": "https://localhost:8080/",
          "height": 204
        },
        "outputId": "2db72d25-780c-4531-b01a-6b0f727db3a1"
      },
      "source": [
        "import pandas as pd\n",
        "df=pd.read_csv('/content/gdrive/My Drive/Dataset/train.csv',usecols=[\"SalePrice\", \"MSSubClass\", \"MSZoning\", \"LotFrontage\", \"LotArea\",\n",
        "                                         \"Street\", \"YearBuilt\", \"LotShape\", \"1stFlrSF\", \"2ndFlrSF\"]).dropna()\n",
        "df.head()"
      ],
      "execution_count": 42,
      "outputs": [
        {
          "output_type": "execute_result",
          "data": {
            "text/html": [
              "<div>\n",
              "<style scoped>\n",
              "    .dataframe tbody tr th:only-of-type {\n",
              "        vertical-align: middle;\n",
              "    }\n",
              "\n",
              "    .dataframe tbody tr th {\n",
              "        vertical-align: top;\n",
              "    }\n",
              "\n",
              "    .dataframe thead th {\n",
              "        text-align: right;\n",
              "    }\n",
              "</style>\n",
              "<table border=\"1\" class=\"dataframe\">\n",
              "  <thead>\n",
              "    <tr style=\"text-align: right;\">\n",
              "      <th></th>\n",
              "      <th>MSSubClass</th>\n",
              "      <th>MSZoning</th>\n",
              "      <th>LotFrontage</th>\n",
              "      <th>LotArea</th>\n",
              "      <th>Street</th>\n",
              "      <th>LotShape</th>\n",
              "      <th>YearBuilt</th>\n",
              "      <th>1stFlrSF</th>\n",
              "      <th>2ndFlrSF</th>\n",
              "      <th>SalePrice</th>\n",
              "    </tr>\n",
              "  </thead>\n",
              "  <tbody>\n",
              "    <tr>\n",
              "      <th>0</th>\n",
              "      <td>60</td>\n",
              "      <td>RL</td>\n",
              "      <td>65.0</td>\n",
              "      <td>8450</td>\n",
              "      <td>Pave</td>\n",
              "      <td>Reg</td>\n",
              "      <td>2003</td>\n",
              "      <td>856</td>\n",
              "      <td>854</td>\n",
              "      <td>208500</td>\n",
              "    </tr>\n",
              "    <tr>\n",
              "      <th>1</th>\n",
              "      <td>20</td>\n",
              "      <td>RL</td>\n",
              "      <td>80.0</td>\n",
              "      <td>9600</td>\n",
              "      <td>Pave</td>\n",
              "      <td>Reg</td>\n",
              "      <td>1976</td>\n",
              "      <td>1262</td>\n",
              "      <td>0</td>\n",
              "      <td>181500</td>\n",
              "    </tr>\n",
              "    <tr>\n",
              "      <th>2</th>\n",
              "      <td>60</td>\n",
              "      <td>RL</td>\n",
              "      <td>68.0</td>\n",
              "      <td>11250</td>\n",
              "      <td>Pave</td>\n",
              "      <td>IR1</td>\n",
              "      <td>2001</td>\n",
              "      <td>920</td>\n",
              "      <td>866</td>\n",
              "      <td>223500</td>\n",
              "    </tr>\n",
              "    <tr>\n",
              "      <th>3</th>\n",
              "      <td>70</td>\n",
              "      <td>RL</td>\n",
              "      <td>60.0</td>\n",
              "      <td>9550</td>\n",
              "      <td>Pave</td>\n",
              "      <td>IR1</td>\n",
              "      <td>1915</td>\n",
              "      <td>961</td>\n",
              "      <td>756</td>\n",
              "      <td>140000</td>\n",
              "    </tr>\n",
              "    <tr>\n",
              "      <th>4</th>\n",
              "      <td>60</td>\n",
              "      <td>RL</td>\n",
              "      <td>84.0</td>\n",
              "      <td>14260</td>\n",
              "      <td>Pave</td>\n",
              "      <td>IR1</td>\n",
              "      <td>2000</td>\n",
              "      <td>1145</td>\n",
              "      <td>1053</td>\n",
              "      <td>250000</td>\n",
              "    </tr>\n",
              "  </tbody>\n",
              "</table>\n",
              "</div>"
            ],
            "text/plain": [
              "   MSSubClass MSZoning  LotFrontage  ...  1stFlrSF 2ndFlrSF SalePrice\n",
              "0          60       RL         65.0  ...       856      854    208500\n",
              "1          20       RL         80.0  ...      1262        0    181500\n",
              "2          60       RL         68.0  ...       920      866    223500\n",
              "3          70       RL         60.0  ...       961      756    140000\n",
              "4          60       RL         84.0  ...      1145     1053    250000\n",
              "\n",
              "[5 rows x 10 columns]"
            ]
          },
          "metadata": {
            "tags": []
          },
          "execution_count": 42
        }
      ]
    },
    {
      "cell_type": "code",
      "metadata": {
        "id": "SoXoX_iyHoVC",
        "colab_type": "code",
        "colab": {
          "base_uri": "https://localhost:8080/",
          "height": 34
        },
        "outputId": "345c45d3-e213-4ab7-cb90-2998d8d22394"
      },
      "source": [
        "df.shape"
      ],
      "execution_count": 43,
      "outputs": [
        {
          "output_type": "execute_result",
          "data": {
            "text/plain": [
              "(1201, 10)"
            ]
          },
          "metadata": {
            "tags": []
          },
          "execution_count": 43
        }
      ]
    },
    {
      "cell_type": "code",
      "metadata": {
        "id": "LBXKAE5CIDJM",
        "colab_type": "code",
        "colab": {
          "base_uri": "https://localhost:8080/",
          "height": 306
        },
        "outputId": "ff8cb7bb-51c2-4cbd-86da-afc2734ebabe"
      },
      "source": [
        "df.info()"
      ],
      "execution_count": 44,
      "outputs": [
        {
          "output_type": "stream",
          "text": [
            "<class 'pandas.core.frame.DataFrame'>\n",
            "Int64Index: 1201 entries, 0 to 1459\n",
            "Data columns (total 10 columns):\n",
            " #   Column       Non-Null Count  Dtype  \n",
            "---  ------       --------------  -----  \n",
            " 0   MSSubClass   1201 non-null   int64  \n",
            " 1   MSZoning     1201 non-null   object \n",
            " 2   LotFrontage  1201 non-null   float64\n",
            " 3   LotArea      1201 non-null   int64  \n",
            " 4   Street       1201 non-null   object \n",
            " 5   LotShape     1201 non-null   object \n",
            " 6   YearBuilt    1201 non-null   int64  \n",
            " 7   1stFlrSF     1201 non-null   int64  \n",
            " 8   2ndFlrSF     1201 non-null   int64  \n",
            " 9   SalePrice    1201 non-null   int64  \n",
            "dtypes: float64(1), int64(6), object(3)\n",
            "memory usage: 103.2+ KB\n"
          ],
          "name": "stdout"
        }
      ]
    },
    {
      "cell_type": "code",
      "metadata": {
        "id": "Rk3Lop6bIRhM",
        "colab_type": "code",
        "colab": {
          "base_uri": "https://localhost:8080/",
          "height": 187
        },
        "outputId": "c8ec6ee0-845c-4d76-d00a-a6ee9ee0df77"
      },
      "source": [
        "for i in df.columns:\n",
        "    print(\"Column name {} and unique values are {}\".format(i,len(df[i].unique())))\n"
      ],
      "execution_count": 45,
      "outputs": [
        {
          "output_type": "stream",
          "text": [
            "Column name MSSubClass and unique values are 15\n",
            "Column name MSZoning and unique values are 5\n",
            "Column name LotFrontage and unique values are 110\n",
            "Column name LotArea and unique values are 869\n",
            "Column name Street and unique values are 2\n",
            "Column name LotShape and unique values are 4\n",
            "Column name YearBuilt and unique values are 112\n",
            "Column name 1stFlrSF and unique values are 678\n",
            "Column name 2ndFlrSF and unique values are 368\n",
            "Column name SalePrice and unique values are 597\n"
          ],
          "name": "stdout"
        }
      ]
    },
    {
      "cell_type": "code",
      "metadata": {
        "id": "kF8eWc3mKNSp",
        "colab_type": "code",
        "colab": {
          "base_uri": "https://localhost:8080/",
          "height": 34
        },
        "outputId": "97db94fc-0f4b-4099-9c3f-af1516c627e0"
      },
      "source": [
        "import datetime\n",
        "datetime.datetime.now().year"
      ],
      "execution_count": 46,
      "outputs": [
        {
          "output_type": "execute_result",
          "data": {
            "text/plain": [
              "2020"
            ]
          },
          "metadata": {
            "tags": []
          },
          "execution_count": 46
        }
      ]
    },
    {
      "cell_type": "code",
      "metadata": {
        "id": "tuCz1OPXKwQf",
        "colab_type": "code",
        "colab": {
          "base_uri": "https://localhost:8080/",
          "height": 204
        },
        "outputId": "818c64e6-4f17-4ddc-9cf0-5da85777449d"
      },
      "source": [
        "df['TotalYears']=datetime.datetime.now().year-df['YearBuilt']\n",
        "df.head()"
      ],
      "execution_count": 47,
      "outputs": [
        {
          "output_type": "execute_result",
          "data": {
            "text/html": [
              "<div>\n",
              "<style scoped>\n",
              "    .dataframe tbody tr th:only-of-type {\n",
              "        vertical-align: middle;\n",
              "    }\n",
              "\n",
              "    .dataframe tbody tr th {\n",
              "        vertical-align: top;\n",
              "    }\n",
              "\n",
              "    .dataframe thead th {\n",
              "        text-align: right;\n",
              "    }\n",
              "</style>\n",
              "<table border=\"1\" class=\"dataframe\">\n",
              "  <thead>\n",
              "    <tr style=\"text-align: right;\">\n",
              "      <th></th>\n",
              "      <th>MSSubClass</th>\n",
              "      <th>MSZoning</th>\n",
              "      <th>LotFrontage</th>\n",
              "      <th>LotArea</th>\n",
              "      <th>Street</th>\n",
              "      <th>LotShape</th>\n",
              "      <th>YearBuilt</th>\n",
              "      <th>1stFlrSF</th>\n",
              "      <th>2ndFlrSF</th>\n",
              "      <th>SalePrice</th>\n",
              "      <th>TotalYears</th>\n",
              "    </tr>\n",
              "  </thead>\n",
              "  <tbody>\n",
              "    <tr>\n",
              "      <th>0</th>\n",
              "      <td>60</td>\n",
              "      <td>RL</td>\n",
              "      <td>65.0</td>\n",
              "      <td>8450</td>\n",
              "      <td>Pave</td>\n",
              "      <td>Reg</td>\n",
              "      <td>2003</td>\n",
              "      <td>856</td>\n",
              "      <td>854</td>\n",
              "      <td>208500</td>\n",
              "      <td>17</td>\n",
              "    </tr>\n",
              "    <tr>\n",
              "      <th>1</th>\n",
              "      <td>20</td>\n",
              "      <td>RL</td>\n",
              "      <td>80.0</td>\n",
              "      <td>9600</td>\n",
              "      <td>Pave</td>\n",
              "      <td>Reg</td>\n",
              "      <td>1976</td>\n",
              "      <td>1262</td>\n",
              "      <td>0</td>\n",
              "      <td>181500</td>\n",
              "      <td>44</td>\n",
              "    </tr>\n",
              "    <tr>\n",
              "      <th>2</th>\n",
              "      <td>60</td>\n",
              "      <td>RL</td>\n",
              "      <td>68.0</td>\n",
              "      <td>11250</td>\n",
              "      <td>Pave</td>\n",
              "      <td>IR1</td>\n",
              "      <td>2001</td>\n",
              "      <td>920</td>\n",
              "      <td>866</td>\n",
              "      <td>223500</td>\n",
              "      <td>19</td>\n",
              "    </tr>\n",
              "    <tr>\n",
              "      <th>3</th>\n",
              "      <td>70</td>\n",
              "      <td>RL</td>\n",
              "      <td>60.0</td>\n",
              "      <td>9550</td>\n",
              "      <td>Pave</td>\n",
              "      <td>IR1</td>\n",
              "      <td>1915</td>\n",
              "      <td>961</td>\n",
              "      <td>756</td>\n",
              "      <td>140000</td>\n",
              "      <td>105</td>\n",
              "    </tr>\n",
              "    <tr>\n",
              "      <th>4</th>\n",
              "      <td>60</td>\n",
              "      <td>RL</td>\n",
              "      <td>84.0</td>\n",
              "      <td>14260</td>\n",
              "      <td>Pave</td>\n",
              "      <td>IR1</td>\n",
              "      <td>2000</td>\n",
              "      <td>1145</td>\n",
              "      <td>1053</td>\n",
              "      <td>250000</td>\n",
              "      <td>20</td>\n",
              "    </tr>\n",
              "  </tbody>\n",
              "</table>\n",
              "</div>"
            ],
            "text/plain": [
              "   MSSubClass MSZoning  LotFrontage  ...  2ndFlrSF SalePrice TotalYears\n",
              "0          60       RL         65.0  ...       854    208500         17\n",
              "1          20       RL         80.0  ...         0    181500         44\n",
              "2          60       RL         68.0  ...       866    223500         19\n",
              "3          70       RL         60.0  ...       756    140000        105\n",
              "4          60       RL         84.0  ...      1053    250000         20\n",
              "\n",
              "[5 rows x 11 columns]"
            ]
          },
          "metadata": {
            "tags": []
          },
          "execution_count": 47
        }
      ]
    },
    {
      "cell_type": "code",
      "metadata": {
        "id": "pfM_MwpYK7fp",
        "colab_type": "code",
        "colab": {
          "base_uri": "https://localhost:8080/",
          "height": 204
        },
        "outputId": "839dc0da-dbb3-4b79-ebaf-182b5bcc1bfc"
      },
      "source": [
        "df.drop(['YearBuilt'],axis=1,inplace=True)\n",
        "df.head()"
      ],
      "execution_count": 48,
      "outputs": [
        {
          "output_type": "execute_result",
          "data": {
            "text/html": [
              "<div>\n",
              "<style scoped>\n",
              "    .dataframe tbody tr th:only-of-type {\n",
              "        vertical-align: middle;\n",
              "    }\n",
              "\n",
              "    .dataframe tbody tr th {\n",
              "        vertical-align: top;\n",
              "    }\n",
              "\n",
              "    .dataframe thead th {\n",
              "        text-align: right;\n",
              "    }\n",
              "</style>\n",
              "<table border=\"1\" class=\"dataframe\">\n",
              "  <thead>\n",
              "    <tr style=\"text-align: right;\">\n",
              "      <th></th>\n",
              "      <th>MSSubClass</th>\n",
              "      <th>MSZoning</th>\n",
              "      <th>LotFrontage</th>\n",
              "      <th>LotArea</th>\n",
              "      <th>Street</th>\n",
              "      <th>LotShape</th>\n",
              "      <th>1stFlrSF</th>\n",
              "      <th>2ndFlrSF</th>\n",
              "      <th>SalePrice</th>\n",
              "      <th>TotalYears</th>\n",
              "    </tr>\n",
              "  </thead>\n",
              "  <tbody>\n",
              "    <tr>\n",
              "      <th>0</th>\n",
              "      <td>60</td>\n",
              "      <td>RL</td>\n",
              "      <td>65.0</td>\n",
              "      <td>8450</td>\n",
              "      <td>Pave</td>\n",
              "      <td>Reg</td>\n",
              "      <td>856</td>\n",
              "      <td>854</td>\n",
              "      <td>208500</td>\n",
              "      <td>17</td>\n",
              "    </tr>\n",
              "    <tr>\n",
              "      <th>1</th>\n",
              "      <td>20</td>\n",
              "      <td>RL</td>\n",
              "      <td>80.0</td>\n",
              "      <td>9600</td>\n",
              "      <td>Pave</td>\n",
              "      <td>Reg</td>\n",
              "      <td>1262</td>\n",
              "      <td>0</td>\n",
              "      <td>181500</td>\n",
              "      <td>44</td>\n",
              "    </tr>\n",
              "    <tr>\n",
              "      <th>2</th>\n",
              "      <td>60</td>\n",
              "      <td>RL</td>\n",
              "      <td>68.0</td>\n",
              "      <td>11250</td>\n",
              "      <td>Pave</td>\n",
              "      <td>IR1</td>\n",
              "      <td>920</td>\n",
              "      <td>866</td>\n",
              "      <td>223500</td>\n",
              "      <td>19</td>\n",
              "    </tr>\n",
              "    <tr>\n",
              "      <th>3</th>\n",
              "      <td>70</td>\n",
              "      <td>RL</td>\n",
              "      <td>60.0</td>\n",
              "      <td>9550</td>\n",
              "      <td>Pave</td>\n",
              "      <td>IR1</td>\n",
              "      <td>961</td>\n",
              "      <td>756</td>\n",
              "      <td>140000</td>\n",
              "      <td>105</td>\n",
              "    </tr>\n",
              "    <tr>\n",
              "      <th>4</th>\n",
              "      <td>60</td>\n",
              "      <td>RL</td>\n",
              "      <td>84.0</td>\n",
              "      <td>14260</td>\n",
              "      <td>Pave</td>\n",
              "      <td>IR1</td>\n",
              "      <td>1145</td>\n",
              "      <td>1053</td>\n",
              "      <td>250000</td>\n",
              "      <td>20</td>\n",
              "    </tr>\n",
              "  </tbody>\n",
              "</table>\n",
              "</div>"
            ],
            "text/plain": [
              "   MSSubClass MSZoning  LotFrontage  ...  2ndFlrSF SalePrice TotalYears\n",
              "0          60       RL         65.0  ...       854    208500         17\n",
              "1          20       RL         80.0  ...         0    181500         44\n",
              "2          60       RL         68.0  ...       866    223500         19\n",
              "3          70       RL         60.0  ...       756    140000        105\n",
              "4          60       RL         84.0  ...      1053    250000         20\n",
              "\n",
              "[5 rows x 10 columns]"
            ]
          },
          "metadata": {
            "tags": []
          },
          "execution_count": 48
        }
      ]
    },
    {
      "cell_type": "code",
      "metadata": {
        "id": "D1hFL92dLBhL",
        "colab_type": "code",
        "colab": {}
      },
      "source": [
        "cat_features=[\"MSSubClass\", \"MSZoning\", \"Street\", \"LotShape\"]\n",
        "out_feature=\"SalePrice\""
      ],
      "execution_count": 49,
      "outputs": []
    },
    {
      "cell_type": "code",
      "metadata": {
        "id": "Jpoex6SyMPOD",
        "colab_type": "code",
        "colab": {
          "base_uri": "https://localhost:8080/",
          "height": 34
        },
        "outputId": "e243d4c6-f6fd-44fd-8368-85f9d347807c"
      },
      "source": [
        "from sklearn.preprocessing import LabelEncoder\n",
        "lbl_encoders={}\n",
        "lbl_encoders['MSSubClass']=LabelEncoder()\n",
        "lbl_encoders['MSSubClass'].fit_transform(df['MSSubClass'])"
      ],
      "execution_count": 50,
      "outputs": [
        {
          "output_type": "execute_result",
          "data": {
            "text/plain": [
              "array([5, 0, 5, ..., 6, 0, 0])"
            ]
          },
          "metadata": {
            "tags": []
          },
          "execution_count": 50
        }
      ]
    },
    {
      "cell_type": "code",
      "metadata": {
        "id": "YslzcQhWNRNW",
        "colab_type": "code",
        "colab": {}
      },
      "source": [
        "df2=df.copy()"
      ],
      "execution_count": 51,
      "outputs": []
    },
    {
      "cell_type": "code",
      "metadata": {
        "id": "PzCR0tavMuU3",
        "colab_type": "code",
        "colab": {}
      },
      "source": [
        "lbl=LabelEncoder()\n",
        "for feature in cat_features:\n",
        "  df2[feature]=lbl.fit_transform(df2[feature])\n"
      ],
      "execution_count": 52,
      "outputs": []
    },
    {
      "cell_type": "code",
      "metadata": {
        "id": "kHA3m0ASNZ1I",
        "colab_type": "code",
        "colab": {
          "base_uri": "https://localhost:8080/",
          "height": 204
        },
        "outputId": "3db0a1b9-338f-43eb-a1c3-971a93a19a25"
      },
      "source": [
        "df2.head()"
      ],
      "execution_count": 53,
      "outputs": [
        {
          "output_type": "execute_result",
          "data": {
            "text/html": [
              "<div>\n",
              "<style scoped>\n",
              "    .dataframe tbody tr th:only-of-type {\n",
              "        vertical-align: middle;\n",
              "    }\n",
              "\n",
              "    .dataframe tbody tr th {\n",
              "        vertical-align: top;\n",
              "    }\n",
              "\n",
              "    .dataframe thead th {\n",
              "        text-align: right;\n",
              "    }\n",
              "</style>\n",
              "<table border=\"1\" class=\"dataframe\">\n",
              "  <thead>\n",
              "    <tr style=\"text-align: right;\">\n",
              "      <th></th>\n",
              "      <th>MSSubClass</th>\n",
              "      <th>MSZoning</th>\n",
              "      <th>LotFrontage</th>\n",
              "      <th>LotArea</th>\n",
              "      <th>Street</th>\n",
              "      <th>LotShape</th>\n",
              "      <th>1stFlrSF</th>\n",
              "      <th>2ndFlrSF</th>\n",
              "      <th>SalePrice</th>\n",
              "      <th>TotalYears</th>\n",
              "    </tr>\n",
              "  </thead>\n",
              "  <tbody>\n",
              "    <tr>\n",
              "      <th>0</th>\n",
              "      <td>5</td>\n",
              "      <td>3</td>\n",
              "      <td>65.0</td>\n",
              "      <td>8450</td>\n",
              "      <td>1</td>\n",
              "      <td>3</td>\n",
              "      <td>856</td>\n",
              "      <td>854</td>\n",
              "      <td>208500</td>\n",
              "      <td>17</td>\n",
              "    </tr>\n",
              "    <tr>\n",
              "      <th>1</th>\n",
              "      <td>0</td>\n",
              "      <td>3</td>\n",
              "      <td>80.0</td>\n",
              "      <td>9600</td>\n",
              "      <td>1</td>\n",
              "      <td>3</td>\n",
              "      <td>1262</td>\n",
              "      <td>0</td>\n",
              "      <td>181500</td>\n",
              "      <td>44</td>\n",
              "    </tr>\n",
              "    <tr>\n",
              "      <th>2</th>\n",
              "      <td>5</td>\n",
              "      <td>3</td>\n",
              "      <td>68.0</td>\n",
              "      <td>11250</td>\n",
              "      <td>1</td>\n",
              "      <td>0</td>\n",
              "      <td>920</td>\n",
              "      <td>866</td>\n",
              "      <td>223500</td>\n",
              "      <td>19</td>\n",
              "    </tr>\n",
              "    <tr>\n",
              "      <th>3</th>\n",
              "      <td>6</td>\n",
              "      <td>3</td>\n",
              "      <td>60.0</td>\n",
              "      <td>9550</td>\n",
              "      <td>1</td>\n",
              "      <td>0</td>\n",
              "      <td>961</td>\n",
              "      <td>756</td>\n",
              "      <td>140000</td>\n",
              "      <td>105</td>\n",
              "    </tr>\n",
              "    <tr>\n",
              "      <th>4</th>\n",
              "      <td>5</td>\n",
              "      <td>3</td>\n",
              "      <td>84.0</td>\n",
              "      <td>14260</td>\n",
              "      <td>1</td>\n",
              "      <td>0</td>\n",
              "      <td>1145</td>\n",
              "      <td>1053</td>\n",
              "      <td>250000</td>\n",
              "      <td>20</td>\n",
              "    </tr>\n",
              "  </tbody>\n",
              "</table>\n",
              "</div>"
            ],
            "text/plain": [
              "   MSSubClass  MSZoning  LotFrontage  ...  2ndFlrSF  SalePrice  TotalYears\n",
              "0           5         3         65.0  ...       854     208500          17\n",
              "1           0         3         80.0  ...         0     181500          44\n",
              "2           5         3         68.0  ...       866     223500          19\n",
              "3           6         3         60.0  ...       756     140000         105\n",
              "4           5         3         84.0  ...      1053     250000          20\n",
              "\n",
              "[5 rows x 10 columns]"
            ]
          },
          "metadata": {
            "tags": []
          },
          "execution_count": 53
        }
      ]
    },
    {
      "cell_type": "code",
      "metadata": {
        "id": "Ed1nixstNbKW",
        "colab_type": "code",
        "colab": {
          "base_uri": "https://localhost:8080/",
          "height": 136
        },
        "outputId": "9464728a-9012-4a2e-cdb9-4ecd0b5a4cc5"
      },
      "source": [
        "### Stacking and Converting Into Tensors\n",
        "import numpy as np\n",
        "cat_features=np.stack([df2['MSSubClass'],df2['MSZoning'],df2['Street'],df2['LotShape']],1)\n",
        "cat_features"
      ],
      "execution_count": 54,
      "outputs": [
        {
          "output_type": "execute_result",
          "data": {
            "text/plain": [
              "array([[5, 3, 1, 3],\n",
              "       [0, 3, 1, 3],\n",
              "       [5, 3, 1, 0],\n",
              "       ...,\n",
              "       [6, 3, 1, 3],\n",
              "       [0, 3, 1, 3],\n",
              "       [0, 3, 1, 3]])"
            ]
          },
          "metadata": {
            "tags": []
          },
          "execution_count": 54
        }
      ]
    },
    {
      "cell_type": "code",
      "metadata": {
        "id": "zok_B4v2QC9C",
        "colab_type": "code",
        "colab": {
          "base_uri": "https://localhost:8080/",
          "height": 136
        },
        "outputId": "d02c1ad0-ccf7-46eb-8593-48ba0c2e08cb"
      },
      "source": [
        "import torch\n",
        "cat_features=torch.tensor(cat_features,dtype=torch.int64)\n",
        "cat_features"
      ],
      "execution_count": 55,
      "outputs": [
        {
          "output_type": "execute_result",
          "data": {
            "text/plain": [
              "tensor([[5, 3, 1, 3],\n",
              "        [0, 3, 1, 3],\n",
              "        [5, 3, 1, 0],\n",
              "        ...,\n",
              "        [6, 3, 1, 3],\n",
              "        [0, 3, 1, 3],\n",
              "        [0, 3, 1, 3]])"
            ]
          },
          "metadata": {
            "tags": []
          },
          "execution_count": 55
        }
      ]
    },
    {
      "cell_type": "code",
      "metadata": {
        "id": "9zgbxMTxQPN6",
        "colab_type": "code",
        "colab": {}
      },
      "source": [
        "### continuos features:\n",
        "cont_features=[]\n",
        "for i in df2.columns:\n",
        "  if i in [\"MSSubClass\", \"MSZoning\", \"Street\", \"LotShape\",\"SalePrice\"]:\n",
        "    pass\n",
        "  else:\n",
        "    cont_features.append(i)"
      ],
      "execution_count": 56,
      "outputs": []
    },
    {
      "cell_type": "code",
      "metadata": {
        "id": "4oRLyya1RLJb",
        "colab_type": "code",
        "colab": {
          "base_uri": "https://localhost:8080/",
          "height": 34
        },
        "outputId": "058716ae-475d-496d-d653-d8994a601eca"
      },
      "source": [
        "cont_features"
      ],
      "execution_count": 57,
      "outputs": [
        {
          "output_type": "execute_result",
          "data": {
            "text/plain": [
              "['LotFrontage', 'LotArea', '1stFlrSF', '2ndFlrSF', 'TotalYears']"
            ]
          },
          "metadata": {
            "tags": []
          },
          "execution_count": 57
        }
      ]
    },
    {
      "cell_type": "code",
      "metadata": {
        "id": "Aop3pNwDRNaV",
        "colab_type": "code",
        "colab": {
          "base_uri": "https://localhost:8080/",
          "height": 136
        },
        "outputId": "f97087f8-90c0-4da4-ce9a-efb6c37a18f8"
      },
      "source": [
        "#### Stacking the continuos features and converting them to a tensor:\n",
        "cont_values=np.stack([df2[i].values for i in cont_features],axis=1)\n",
        "cont_values=torch.tensor(cont_values,dtype=torch.float)\n",
        "cont_values"
      ],
      "execution_count": 58,
      "outputs": [
        {
          "output_type": "execute_result",
          "data": {
            "text/plain": [
              "tensor([[   65.,  8450.,   856.,   854.,    17.],\n",
              "        [   80.,  9600.,  1262.,     0.,    44.],\n",
              "        [   68., 11250.,   920.,   866.,    19.],\n",
              "        ...,\n",
              "        [   66.,  9042.,  1188.,  1152.,    79.],\n",
              "        [   68.,  9717.,  1078.,     0.,    70.],\n",
              "        [   75.,  9937.,  1256.,     0.,    55.]])"
            ]
          },
          "metadata": {
            "tags": []
          },
          "execution_count": 58
        }
      ]
    },
    {
      "cell_type": "code",
      "metadata": {
        "id": "y8Iq_z8YR_N8",
        "colab_type": "code",
        "colab": {
          "base_uri": "https://localhost:8080/",
          "height": 34
        },
        "outputId": "3f7aaab8-da60-40de-83fd-53d39fb82351"
      },
      "source": [
        "cont_values.dtype"
      ],
      "execution_count": 59,
      "outputs": [
        {
          "output_type": "execute_result",
          "data": {
            "text/plain": [
              "torch.float32"
            ]
          },
          "metadata": {
            "tags": []
          },
          "execution_count": 59
        }
      ]
    },
    {
      "cell_type": "code",
      "metadata": {
        "id": "IboCuG9SSCpc",
        "colab_type": "code",
        "colab": {
          "base_uri": "https://localhost:8080/",
          "height": 136
        },
        "outputId": "95774033-5f0d-4878-dbf7-caea60f53b9e"
      },
      "source": [
        "### COnvert Dependent Variable into tensor:\n",
        "Y=torch.tensor(df2['SalePrice'],dtype=torch.float).reshape(-1,1)\n",
        "Y"
      ],
      "execution_count": 60,
      "outputs": [
        {
          "output_type": "execute_result",
          "data": {
            "text/plain": [
              "tensor([[208500.],\n",
              "        [181500.],\n",
              "        [223500.],\n",
              "        ...,\n",
              "        [266500.],\n",
              "        [142125.],\n",
              "        [147500.]])"
            ]
          },
          "metadata": {
            "tags": []
          },
          "execution_count": 60
        }
      ]
    },
    {
      "cell_type": "code",
      "metadata": {
        "id": "yPYOCP7bTF0s",
        "colab_type": "code",
        "colab": {
          "base_uri": "https://localhost:8080/",
          "height": 34
        },
        "outputId": "f8572640-c5e9-41f0-ec5c-36563b652c50"
      },
      "source": [
        "cat_features.shape,cont_values.shape,Y.shape"
      ],
      "execution_count": 61,
      "outputs": [
        {
          "output_type": "execute_result",
          "data": {
            "text/plain": [
              "(torch.Size([1201, 4]), torch.Size([1201, 5]), torch.Size([1201, 1]))"
            ]
          },
          "metadata": {
            "tags": []
          },
          "execution_count": 61
        }
      ]
    },
    {
      "cell_type": "code",
      "metadata": {
        "id": "8amdFzv1TKc1",
        "colab_type": "code",
        "colab": {}
      },
      "source": [
        "#### #### Embedding Size For Categorical columns"
      ],
      "execution_count": 62,
      "outputs": []
    },
    {
      "cell_type": "code",
      "metadata": {
        "id": "zInT3O7jUiDO",
        "colab_type": "code",
        "colab": {
          "base_uri": "https://localhost:8080/",
          "height": 34
        },
        "outputId": "47a7be4e-bc3e-41ad-e9dc-c13c5075ae92"
      },
      "source": [
        "cat_dims=[df2[columns].nunique() for columns in [\"MSSubClass\", \"MSZoning\", \"Street\", \"LotShape\"]]\n",
        "cat_dims"
      ],
      "execution_count": 63,
      "outputs": [
        {
          "output_type": "execute_result",
          "data": {
            "text/plain": [
              "[15, 5, 2, 4]"
            ]
          },
          "metadata": {
            "tags": []
          },
          "execution_count": 63
        }
      ]
    },
    {
      "cell_type": "code",
      "metadata": {
        "id": "d9sPMSK0Ur7a",
        "colab_type": "code",
        "colab": {
          "base_uri": "https://localhost:8080/",
          "height": 34
        },
        "outputId": "3e099810-3888-48c5-9b44-0f6c06d3affd"
      },
      "source": [
        "### Thumb Rule:Output dimension should be set based on the input dimension ;min(50,(x+1)//2)\n",
        "embedding_dim= [(x, min(50, (x + 1) // 2)) for x in cat_dims]\n",
        "embedding_dim"
      ],
      "execution_count": 64,
      "outputs": [
        {
          "output_type": "execute_result",
          "data": {
            "text/plain": [
              "[(15, 8), (5, 3), (2, 1), (4, 2)]"
            ]
          },
          "metadata": {
            "tags": []
          },
          "execution_count": 64
        }
      ]
    },
    {
      "cell_type": "code",
      "metadata": {
        "id": "ki8dOTkyV_HR",
        "colab_type": "code",
        "colab": {
          "base_uri": "https://localhost:8080/",
          "height": 119
        },
        "outputId": "da9f8e16-b980-429f-81ed-c0a2de5336d6"
      },
      "source": [
        "import torch\n",
        "import torch.nn as nn\n",
        "import torch.nn.functional as F\n",
        "embedded_representation=nn.ModuleList([nn.Embedding(inp,out) for inp,out in embedding_dim])\n",
        "embedded_representation"
      ],
      "execution_count": 65,
      "outputs": [
        {
          "output_type": "execute_result",
          "data": {
            "text/plain": [
              "ModuleList(\n",
              "  (0): Embedding(15, 8)\n",
              "  (1): Embedding(5, 3)\n",
              "  (2): Embedding(2, 1)\n",
              "  (3): Embedding(4, 2)\n",
              ")"
            ]
          },
          "metadata": {
            "tags": []
          },
          "execution_count": 65
        }
      ]
    },
    {
      "cell_type": "code",
      "metadata": {
        "id": "uOnu0NqtEEwa",
        "colab_type": "code",
        "colab": {
          "base_uri": "https://localhost:8080/",
          "height": 136
        },
        "outputId": "0464c865-8c5c-4398-8184-6713609da556"
      },
      "source": [
        "cat_features"
      ],
      "execution_count": 66,
      "outputs": [
        {
          "output_type": "execute_result",
          "data": {
            "text/plain": [
              "tensor([[5, 3, 1, 3],\n",
              "        [0, 3, 1, 3],\n",
              "        [5, 3, 1, 0],\n",
              "        ...,\n",
              "        [6, 3, 1, 3],\n",
              "        [0, 3, 1, 3],\n",
              "        [0, 3, 1, 3]])"
            ]
          },
          "metadata": {
            "tags": []
          },
          "execution_count": 66
        }
      ]
    },
    {
      "cell_type": "code",
      "metadata": {
        "id": "6jJWTgkXEMV7",
        "colab_type": "code",
        "colab": {}
      },
      "source": [
        "pd.set_option('display.max_rows', 500)\n",
        "embedding_val=[]\n",
        "for i,e in enumerate(embedded_representation):\n",
        "    embedding_val.append(e(cat_features[:,i]))"
      ],
      "execution_count": 67,
      "outputs": []
    },
    {
      "cell_type": "code",
      "metadata": {
        "id": "yxPRR4TkMMxZ",
        "colab_type": "code",
        "colab": {
          "base_uri": "https://localhost:8080/",
          "height": 459
        },
        "outputId": "77095fbc-a502-41fd-d38a-7e07a2a57159"
      },
      "source": [
        "embedding_val"
      ],
      "execution_count": 68,
      "outputs": [
        {
          "output_type": "execute_result",
          "data": {
            "text/plain": [
              "[tensor([[-1.0578,  0.5777, -0.7198,  ...,  1.3946,  0.7841, -1.3548],\n",
              "         [ 0.6118,  0.8425, -1.5762,  ...,  0.5867,  1.7134,  1.0078],\n",
              "         [-1.0578,  0.5777, -0.7198,  ...,  1.3946,  0.7841, -1.3548],\n",
              "         ...,\n",
              "         [-0.7526, -1.4752, -1.0691,  ...,  0.3058,  0.5478, -1.0497],\n",
              "         [ 0.6118,  0.8425, -1.5762,  ...,  0.5867,  1.7134,  1.0078],\n",
              "         [ 0.6118,  0.8425, -1.5762,  ...,  0.5867,  1.7134,  1.0078]],\n",
              "        grad_fn=<EmbeddingBackward>), tensor([[-1.0072, -1.5412, -0.5827],\n",
              "         [-1.0072, -1.5412, -0.5827],\n",
              "         [-1.0072, -1.5412, -0.5827],\n",
              "         ...,\n",
              "         [-1.0072, -1.5412, -0.5827],\n",
              "         [-1.0072, -1.5412, -0.5827],\n",
              "         [-1.0072, -1.5412, -0.5827]], grad_fn=<EmbeddingBackward>), tensor([[0.1119],\n",
              "         [0.1119],\n",
              "         [0.1119],\n",
              "         ...,\n",
              "         [0.1119],\n",
              "         [0.1119],\n",
              "         [0.1119]], grad_fn=<EmbeddingBackward>), tensor([[ 0.2279,  1.0954],\n",
              "         [ 0.2279,  1.0954],\n",
              "         [ 0.6255, -0.3770],\n",
              "         ...,\n",
              "         [ 0.2279,  1.0954],\n",
              "         [ 0.2279,  1.0954],\n",
              "         [ 0.2279,  1.0954]], grad_fn=<EmbeddingBackward>)]"
            ]
          },
          "metadata": {
            "tags": []
          },
          "execution_count": 68
        }
      ]
    },
    {
      "cell_type": "code",
      "metadata": {
        "id": "A9ZLgCQoMS0Z",
        "colab_type": "code",
        "colab": {
          "base_uri": "https://localhost:8080/",
          "height": 153
        },
        "outputId": "93ff78d7-7dff-452e-e3a6-a343e0540058"
      },
      "source": [
        "z=torch.cat(embedding_val,1)\n",
        "z"
      ],
      "execution_count": 69,
      "outputs": [
        {
          "output_type": "execute_result",
          "data": {
            "text/plain": [
              "tensor([[-1.0578,  0.5777, -0.7198,  ...,  0.1119,  0.2279,  1.0954],\n",
              "        [ 0.6118,  0.8425, -1.5762,  ...,  0.1119,  0.2279,  1.0954],\n",
              "        [-1.0578,  0.5777, -0.7198,  ...,  0.1119,  0.6255, -0.3770],\n",
              "        ...,\n",
              "        [-0.7526, -1.4752, -1.0691,  ...,  0.1119,  0.2279,  1.0954],\n",
              "        [ 0.6118,  0.8425, -1.5762,  ...,  0.1119,  0.2279,  1.0954],\n",
              "        [ 0.6118,  0.8425, -1.5762,  ...,  0.1119,  0.2279,  1.0954]],\n",
              "       grad_fn=<CatBackward>)"
            ]
          },
          "metadata": {
            "tags": []
          },
          "execution_count": 69
        }
      ]
    },
    {
      "cell_type": "code",
      "metadata": {
        "id": "KjtCzpePMYj-",
        "colab_type": "code",
        "colab": {}
      },
      "source": [
        "##### Create a Feed Forward Neural Network\n",
        "import torch\n",
        "import torch.nn as nn\n",
        "import torch.nn.functional as F\n",
        "class FeedForwardNN(nn.Module):\n",
        "\n",
        "    def __init__(self, embedding_dim, n_cont, out_sz, layers, p=0.5):\n",
        "        super().__init__()\n",
        "        self.embeds = nn.ModuleList([nn.Embedding(inp,out) for inp,out in embedding_dim])\n",
        "        self.emb_drop = nn.Dropout(p)\n",
        "        self.bn_cont = nn.BatchNorm1d(n_cont)\n",
        "        \n",
        "        layerlist = []\n",
        "        n_emb = sum((out for inp,out in embedding_dim))\n",
        "        n_in = n_emb + n_cont\n",
        "        \n",
        "        for i in layers:\n",
        "            layerlist.append(nn.Linear(n_in,i)) \n",
        "            layerlist.append(nn.ReLU(inplace=True))\n",
        "            layerlist.append(nn.BatchNorm1d(i))\n",
        "            layerlist.append(nn.Dropout(p))\n",
        "            n_in = i\n",
        "        layerlist.append(nn.Linear(layers[-1],out_sz))\n",
        "            \n",
        "        self.layers = nn.Sequential(*layerlist)\n",
        "    \n",
        "    def forward(self, x_cat, x_cont):\n",
        "        embeddings = []\n",
        "        for i,e in enumerate(self.embeds):\n",
        "            embeddings.append(e(x_cat[:,i]))\n",
        "        x = torch.cat(embeddings, 1)\n",
        "        x = self.emb_drop(x)\n",
        "        \n",
        "        x_cont = self.bn_cont(x_cont)\n",
        "        x = torch.cat([x, x_cont], 1)\n",
        "        x = self.layers(x)\n",
        "        return x"
      ],
      "execution_count": 70,
      "outputs": []
    },
    {
      "cell_type": "code",
      "metadata": {
        "id": "vCEOKTBJvpMH",
        "colab_type": "code",
        "colab": {}
      },
      "source": [
        "torch.manual_seed(100)\n",
        "model=FeedForwardNN(embedding_dim,len(cont_features),1,[100,50],p=0.4)"
      ],
      "execution_count": 71,
      "outputs": []
    },
    {
      "cell_type": "code",
      "metadata": {
        "id": "PBTp6yzKvs6O",
        "colab_type": "code",
        "colab": {
          "base_uri": "https://localhost:8080/",
          "height": 374
        },
        "outputId": "6829fbdc-0c27-4b5a-dd07-6583b36365d5"
      },
      "source": [
        "model"
      ],
      "execution_count": 72,
      "outputs": [
        {
          "output_type": "execute_result",
          "data": {
            "text/plain": [
              "FeedForwardNN(\n",
              "  (embeds): ModuleList(\n",
              "    (0): Embedding(15, 8)\n",
              "    (1): Embedding(5, 3)\n",
              "    (2): Embedding(2, 1)\n",
              "    (3): Embedding(4, 2)\n",
              "  )\n",
              "  (emb_drop): Dropout(p=0.4, inplace=False)\n",
              "  (bn_cont): BatchNorm1d(5, eps=1e-05, momentum=0.1, affine=True, track_running_stats=True)\n",
              "  (layers): Sequential(\n",
              "    (0): Linear(in_features=19, out_features=100, bias=True)\n",
              "    (1): ReLU(inplace=True)\n",
              "    (2): BatchNorm1d(100, eps=1e-05, momentum=0.1, affine=True, track_running_stats=True)\n",
              "    (3): Dropout(p=0.4, inplace=False)\n",
              "    (4): Linear(in_features=100, out_features=50, bias=True)\n",
              "    (5): ReLU(inplace=True)\n",
              "    (6): BatchNorm1d(50, eps=1e-05, momentum=0.1, affine=True, track_running_stats=True)\n",
              "    (7): Dropout(p=0.4, inplace=False)\n",
              "    (8): Linear(in_features=50, out_features=1, bias=True)\n",
              "  )\n",
              ")"
            ]
          },
          "metadata": {
            "tags": []
          },
          "execution_count": 72
        }
      ]
    },
    {
      "cell_type": "code",
      "metadata": {
        "id": "676aTI7qvyFV",
        "colab_type": "code",
        "colab": {}
      },
      "source": [
        "### Define Loss and Optimizer"
      ],
      "execution_count": 73,
      "outputs": []
    },
    {
      "cell_type": "code",
      "metadata": {
        "id": "CpyWZ9zzwCxh",
        "colab_type": "code",
        "colab": {}
      },
      "source": [
        "\n",
        "loss_function=nn.MSELoss()\n",
        "optimizer=torch.optim.Adam(model.parameters(),lr=0.01)"
      ],
      "execution_count": 74,
      "outputs": []
    },
    {
      "cell_type": "code",
      "metadata": {
        "id": "b4gQGOcWwKWV",
        "colab_type": "code",
        "colab": {}
      },
      "source": [
        "batch_size=1200\n",
        "test_size=int(batch_size*0.15)\n",
        "train_categorical=cat_features[:batch_size-test_size]\n",
        "test_categorical=cat_features[batch_size-test_size:batch_size]\n",
        "train_cont=cont_values[:batch_size-test_size]\n",
        "test_cont=cont_values[batch_size-test_size:batch_size]\n",
        "y_train=Y[:batch_size-test_size]\n",
        "y_test=Y[batch_size-test_size:batch_size]"
      ],
      "execution_count": 75,
      "outputs": []
    },
    {
      "cell_type": "code",
      "metadata": {
        "id": "vTw4xyrTxIS2",
        "colab_type": "code",
        "colab": {
          "base_uri": "https://localhost:8080/",
          "height": 34
        },
        "outputId": "54a4850d-58d9-4502-eade-730a0d4c0925"
      },
      "source": [
        "len(train_categorical),len(test_categorical),len(train_cont),len(test_cont),len(y_train),len(y_test)"
      ],
      "execution_count": 76,
      "outputs": [
        {
          "output_type": "execute_result",
          "data": {
            "text/plain": [
              "(1020, 180, 1020, 180, 1020, 180)"
            ]
          },
          "metadata": {
            "tags": []
          },
          "execution_count": 76
        }
      ]
    },
    {
      "cell_type": "code",
      "metadata": {
        "id": "b2HFDeANxP0s",
        "colab_type": "code",
        "colab": {
          "base_uri": "https://localhost:8080/",
          "height": 1000
        },
        "outputId": "6a041d5a-f56d-438c-ce6b-e5c004ac8921"
      },
      "source": [
        "epochs=5000\n",
        "final_losses=[]\n",
        "for i in range(epochs):\n",
        "    i=i+1\n",
        "    y_pred=model(train_categorical,train_cont)\n",
        "    loss=torch.sqrt(loss_function(y_pred,y_train)) ### RMSE\n",
        "    final_losses.append(loss)\n",
        "    if i%10==1:\n",
        "        print(\"Epoch number: {} and the loss : {}\".format(i,loss.item()))\n",
        "    optimizer.zero_grad()\n",
        "    loss.backward()\n",
        "    optimizer.step()"
      ],
      "execution_count": 77,
      "outputs": [
        {
          "output_type": "stream",
          "text": [
            "Epoch number: 1 and the loss : 200496.78125\n",
            "Epoch number: 11 and the loss : 200493.4375\n",
            "Epoch number: 21 and the loss : 200489.15625\n",
            "Epoch number: 31 and the loss : 200482.609375\n",
            "Epoch number: 41 and the loss : 200473.265625\n",
            "Epoch number: 51 and the loss : 200461.359375\n",
            "Epoch number: 61 and the loss : 200446.390625\n",
            "Epoch number: 71 and the loss : 200429.359375\n",
            "Epoch number: 81 and the loss : 200408.0\n",
            "Epoch number: 91 and the loss : 200383.421875\n",
            "Epoch number: 101 and the loss : 200355.3125\n",
            "Epoch number: 111 and the loss : 200322.125\n",
            "Epoch number: 121 and the loss : 200291.40625\n",
            "Epoch number: 131 and the loss : 200252.0\n",
            "Epoch number: 141 and the loss : 200206.625\n",
            "Epoch number: 151 and the loss : 200162.25\n",
            "Epoch number: 161 and the loss : 200112.25\n",
            "Epoch number: 171 and the loss : 200059.828125\n",
            "Epoch number: 181 and the loss : 200005.78125\n",
            "Epoch number: 191 and the loss : 199946.25\n",
            "Epoch number: 201 and the loss : 199881.421875\n",
            "Epoch number: 211 and the loss : 199815.53125\n",
            "Epoch number: 221 and the loss : 199737.390625\n",
            "Epoch number: 231 and the loss : 199669.359375\n",
            "Epoch number: 241 and the loss : 199588.984375\n",
            "Epoch number: 251 and the loss : 199506.125\n",
            "Epoch number: 261 and the loss : 199411.34375\n",
            "Epoch number: 271 and the loss : 199324.65625\n",
            "Epoch number: 281 and the loss : 199243.546875\n",
            "Epoch number: 291 and the loss : 199140.515625\n",
            "Epoch number: 301 and the loss : 199026.40625\n",
            "Epoch number: 311 and the loss : 198929.921875\n",
            "Epoch number: 321 and the loss : 198844.4375\n",
            "Epoch number: 331 and the loss : 198694.25\n",
            "Epoch number: 341 and the loss : 198600.96875\n",
            "Epoch number: 351 and the loss : 198492.71875\n",
            "Epoch number: 361 and the loss : 198388.90625\n",
            "Epoch number: 371 and the loss : 198246.40625\n",
            "Epoch number: 381 and the loss : 198108.0\n",
            "Epoch number: 391 and the loss : 198017.359375\n",
            "Epoch number: 401 and the loss : 197894.984375\n",
            "Epoch number: 411 and the loss : 197728.90625\n",
            "Epoch number: 421 and the loss : 197594.359375\n",
            "Epoch number: 431 and the loss : 197424.65625\n",
            "Epoch number: 441 and the loss : 197286.359375\n",
            "Epoch number: 451 and the loss : 197175.078125\n",
            "Epoch number: 461 and the loss : 196967.015625\n",
            "Epoch number: 471 and the loss : 196884.328125\n",
            "Epoch number: 481 and the loss : 196708.40625\n",
            "Epoch number: 491 and the loss : 196506.640625\n",
            "Epoch number: 501 and the loss : 196437.46875\n",
            "Epoch number: 511 and the loss : 196213.453125\n",
            "Epoch number: 521 and the loss : 196051.09375\n",
            "Epoch number: 531 and the loss : 195853.15625\n",
            "Epoch number: 541 and the loss : 195669.90625\n",
            "Epoch number: 551 and the loss : 195459.328125\n",
            "Epoch number: 561 and the loss : 195294.515625\n",
            "Epoch number: 571 and the loss : 195068.46875\n",
            "Epoch number: 581 and the loss : 194844.609375\n",
            "Epoch number: 591 and the loss : 194698.15625\n",
            "Epoch number: 601 and the loss : 194527.5\n",
            "Epoch number: 611 and the loss : 194327.75\n",
            "Epoch number: 621 and the loss : 194119.609375\n",
            "Epoch number: 631 and the loss : 193833.09375\n",
            "Epoch number: 641 and the loss : 193689.703125\n",
            "Epoch number: 651 and the loss : 193484.625\n",
            "Epoch number: 661 and the loss : 193223.359375\n",
            "Epoch number: 671 and the loss : 193065.375\n",
            "Epoch number: 681 and the loss : 192777.75\n",
            "Epoch number: 691 and the loss : 192501.984375\n",
            "Epoch number: 701 and the loss : 192291.390625\n",
            "Epoch number: 711 and the loss : 192209.359375\n",
            "Epoch number: 721 and the loss : 191967.5625\n",
            "Epoch number: 731 and the loss : 191623.390625\n",
            "Epoch number: 741 and the loss : 191425.03125\n",
            "Epoch number: 751 and the loss : 191197.265625\n",
            "Epoch number: 761 and the loss : 191049.625\n",
            "Epoch number: 771 and the loss : 190744.875\n",
            "Epoch number: 781 and the loss : 190476.640625\n",
            "Epoch number: 791 and the loss : 190293.75\n",
            "Epoch number: 801 and the loss : 189868.65625\n",
            "Epoch number: 811 and the loss : 189755.3125\n",
            "Epoch number: 821 and the loss : 189670.5625\n",
            "Epoch number: 831 and the loss : 189296.109375\n",
            "Epoch number: 841 and the loss : 188934.78125\n",
            "Epoch number: 851 and the loss : 188846.703125\n",
            "Epoch number: 861 and the loss : 188395.65625\n",
            "Epoch number: 871 and the loss : 188179.59375\n",
            "Epoch number: 881 and the loss : 187892.21875\n",
            "Epoch number: 891 and the loss : 187492.609375\n",
            "Epoch number: 901 and the loss : 187448.703125\n",
            "Epoch number: 911 and the loss : 187240.109375\n",
            "Epoch number: 921 and the loss : 186814.296875\n",
            "Epoch number: 931 and the loss : 186374.6875\n",
            "Epoch number: 941 and the loss : 186132.0\n",
            "Epoch number: 951 and the loss : 186087.265625\n",
            "Epoch number: 961 and the loss : 185512.0\n",
            "Epoch number: 971 and the loss : 185357.640625\n",
            "Epoch number: 981 and the loss : 185094.578125\n",
            "Epoch number: 991 and the loss : 184803.9375\n",
            "Epoch number: 1001 and the loss : 184315.75\n",
            "Epoch number: 1011 and the loss : 184029.03125\n",
            "Epoch number: 1021 and the loss : 183781.375\n",
            "Epoch number: 1031 and the loss : 183498.484375\n",
            "Epoch number: 1041 and the loss : 183224.8125\n",
            "Epoch number: 1051 and the loss : 182911.296875\n",
            "Epoch number: 1061 and the loss : 182541.515625\n",
            "Epoch number: 1071 and the loss : 182386.390625\n",
            "Epoch number: 1081 and the loss : 181905.5\n",
            "Epoch number: 1091 and the loss : 181573.015625\n",
            "Epoch number: 1101 and the loss : 181338.59375\n",
            "Epoch number: 1111 and the loss : 180763.796875\n",
            "Epoch number: 1121 and the loss : 180501.125\n",
            "Epoch number: 1131 and the loss : 180399.6875\n",
            "Epoch number: 1141 and the loss : 180037.4375\n",
            "Epoch number: 1151 and the loss : 179518.984375\n",
            "Epoch number: 1161 and the loss : 179388.875\n",
            "Epoch number: 1171 and the loss : 179043.75\n",
            "Epoch number: 1181 and the loss : 178536.703125\n",
            "Epoch number: 1191 and the loss : 178104.578125\n",
            "Epoch number: 1201 and the loss : 178101.640625\n",
            "Epoch number: 1211 and the loss : 177434.59375\n",
            "Epoch number: 1221 and the loss : 177489.5625\n",
            "Epoch number: 1231 and the loss : 176599.875\n",
            "Epoch number: 1241 and the loss : 176501.75\n",
            "Epoch number: 1251 and the loss : 175523.09375\n",
            "Epoch number: 1261 and the loss : 175588.265625\n",
            "Epoch number: 1271 and the loss : 175373.265625\n",
            "Epoch number: 1281 and the loss : 174984.890625\n",
            "Epoch number: 1291 and the loss : 174470.9375\n",
            "Epoch number: 1301 and the loss : 174271.265625\n",
            "Epoch number: 1311 and the loss : 173672.109375\n",
            "Epoch number: 1321 and the loss : 173143.640625\n",
            "Epoch number: 1331 and the loss : 173403.515625\n",
            "Epoch number: 1341 and the loss : 172642.390625\n",
            "Epoch number: 1351 and the loss : 172284.453125\n",
            "Epoch number: 1361 and the loss : 172047.078125\n",
            "Epoch number: 1371 and the loss : 171871.1875\n",
            "Epoch number: 1381 and the loss : 171321.734375\n",
            "Epoch number: 1391 and the loss : 170366.671875\n",
            "Epoch number: 1401 and the loss : 170515.765625\n",
            "Epoch number: 1411 and the loss : 169649.3125\n",
            "Epoch number: 1421 and the loss : 170095.28125\n",
            "Epoch number: 1431 and the loss : 169489.25\n",
            "Epoch number: 1441 and the loss : 168687.65625\n",
            "Epoch number: 1451 and the loss : 168576.515625\n",
            "Epoch number: 1461 and the loss : 167947.296875\n",
            "Epoch number: 1471 and the loss : 167586.25\n",
            "Epoch number: 1481 and the loss : 167372.59375\n",
            "Epoch number: 1491 and the loss : 166748.671875\n",
            "Epoch number: 1501 and the loss : 166326.171875\n",
            "Epoch number: 1511 and the loss : 165566.109375\n",
            "Epoch number: 1521 and the loss : 165832.515625\n",
            "Epoch number: 1531 and the loss : 165305.90625\n",
            "Epoch number: 1541 and the loss : 164628.546875\n",
            "Epoch number: 1551 and the loss : 164532.03125\n",
            "Epoch number: 1561 and the loss : 164069.15625\n",
            "Epoch number: 1571 and the loss : 163476.265625\n",
            "Epoch number: 1581 and the loss : 163130.609375\n",
            "Epoch number: 1591 and the loss : 162959.859375\n",
            "Epoch number: 1601 and the loss : 162449.40625\n",
            "Epoch number: 1611 and the loss : 161660.21875\n",
            "Epoch number: 1621 and the loss : 160805.984375\n",
            "Epoch number: 1631 and the loss : 161123.421875\n",
            "Epoch number: 1641 and the loss : 160649.734375\n",
            "Epoch number: 1651 and the loss : 160142.78125\n",
            "Epoch number: 1661 and the loss : 160165.140625\n",
            "Epoch number: 1671 and the loss : 159011.703125\n",
            "Epoch number: 1681 and the loss : 158408.515625\n",
            "Epoch number: 1691 and the loss : 158265.21875\n",
            "Epoch number: 1701 and the loss : 157654.5\n",
            "Epoch number: 1711 and the loss : 157313.234375\n",
            "Epoch number: 1721 and the loss : 157128.1875\n",
            "Epoch number: 1731 and the loss : 156640.78125\n",
            "Epoch number: 1741 and the loss : 156283.296875\n",
            "Epoch number: 1751 and the loss : 156144.609375\n",
            "Epoch number: 1761 and the loss : 154685.046875\n",
            "Epoch number: 1771 and the loss : 154298.390625\n",
            "Epoch number: 1781 and the loss : 154058.421875\n",
            "Epoch number: 1791 and the loss : 153754.328125\n",
            "Epoch number: 1801 and the loss : 153087.21875\n",
            "Epoch number: 1811 and the loss : 152867.9375\n",
            "Epoch number: 1821 and the loss : 152222.375\n",
            "Epoch number: 1831 and the loss : 152388.03125\n",
            "Epoch number: 1841 and the loss : 151569.453125\n",
            "Epoch number: 1851 and the loss : 150705.40625\n",
            "Epoch number: 1861 and the loss : 150766.546875\n",
            "Epoch number: 1871 and the loss : 150082.515625\n",
            "Epoch number: 1881 and the loss : 149259.0625\n",
            "Epoch number: 1891 and the loss : 148391.0625\n",
            "Epoch number: 1901 and the loss : 148582.3125\n",
            "Epoch number: 1911 and the loss : 148931.375\n",
            "Epoch number: 1921 and the loss : 147795.3125\n",
            "Epoch number: 1931 and the loss : 147339.84375\n",
            "Epoch number: 1941 and the loss : 146614.921875\n",
            "Epoch number: 1951 and the loss : 146552.53125\n",
            "Epoch number: 1961 and the loss : 146023.078125\n",
            "Epoch number: 1971 and the loss : 145560.453125\n",
            "Epoch number: 1981 and the loss : 145752.03125\n",
            "Epoch number: 1991 and the loss : 144470.546875\n",
            "Epoch number: 2001 and the loss : 144089.078125\n",
            "Epoch number: 2011 and the loss : 142988.09375\n",
            "Epoch number: 2021 and the loss : 143007.40625\n",
            "Epoch number: 2031 and the loss : 142417.875\n",
            "Epoch number: 2041 and the loss : 142056.859375\n",
            "Epoch number: 2051 and the loss : 141147.984375\n",
            "Epoch number: 2061 and the loss : 141003.59375\n",
            "Epoch number: 2071 and the loss : 141516.796875\n",
            "Epoch number: 2081 and the loss : 139719.78125\n",
            "Epoch number: 2091 and the loss : 139702.65625\n",
            "Epoch number: 2101 and the loss : 139378.328125\n",
            "Epoch number: 2111 and the loss : 138627.796875\n",
            "Epoch number: 2121 and the loss : 137710.390625\n",
            "Epoch number: 2131 and the loss : 137894.875\n",
            "Epoch number: 2141 and the loss : 138183.546875\n",
            "Epoch number: 2151 and the loss : 136628.375\n",
            "Epoch number: 2161 and the loss : 136432.140625\n",
            "Epoch number: 2171 and the loss : 137706.34375\n",
            "Epoch number: 2181 and the loss : 135900.328125\n",
            "Epoch number: 2191 and the loss : 134933.078125\n",
            "Epoch number: 2201 and the loss : 134091.96875\n",
            "Epoch number: 2211 and the loss : 133743.6875\n",
            "Epoch number: 2221 and the loss : 133835.578125\n",
            "Epoch number: 2231 and the loss : 132540.3125\n",
            "Epoch number: 2241 and the loss : 131403.8125\n",
            "Epoch number: 2251 and the loss : 131611.125\n",
            "Epoch number: 2261 and the loss : 130180.8046875\n",
            "Epoch number: 2271 and the loss : 130306.5234375\n",
            "Epoch number: 2281 and the loss : 130157.5859375\n",
            "Epoch number: 2291 and the loss : 129398.140625\n",
            "Epoch number: 2301 and the loss : 128922.2578125\n",
            "Epoch number: 2311 and the loss : 128886.546875\n",
            "Epoch number: 2321 and the loss : 128464.8203125\n",
            "Epoch number: 2331 and the loss : 128593.7421875\n",
            "Epoch number: 2341 and the loss : 127509.8125\n",
            "Epoch number: 2351 and the loss : 126197.0\n",
            "Epoch number: 2361 and the loss : 126296.71875\n",
            "Epoch number: 2371 and the loss : 125796.453125\n",
            "Epoch number: 2381 and the loss : 124704.765625\n",
            "Epoch number: 2391 and the loss : 124864.46875\n",
            "Epoch number: 2401 and the loss : 125364.25\n",
            "Epoch number: 2411 and the loss : 123225.1484375\n",
            "Epoch number: 2421 and the loss : 123256.4375\n",
            "Epoch number: 2431 and the loss : 122421.109375\n",
            "Epoch number: 2441 and the loss : 122334.140625\n",
            "Epoch number: 2451 and the loss : 121190.8984375\n",
            "Epoch number: 2461 and the loss : 120191.171875\n",
            "Epoch number: 2471 and the loss : 120670.796875\n",
            "Epoch number: 2481 and the loss : 121183.640625\n",
            "Epoch number: 2491 and the loss : 120649.25\n",
            "Epoch number: 2501 and the loss : 119568.6015625\n",
            "Epoch number: 2511 and the loss : 118595.3359375\n",
            "Epoch number: 2521 and the loss : 118309.984375\n",
            "Epoch number: 2531 and the loss : 118289.5234375\n",
            "Epoch number: 2541 and the loss : 117319.0859375\n",
            "Epoch number: 2551 and the loss : 117044.0625\n",
            "Epoch number: 2561 and the loss : 116529.671875\n",
            "Epoch number: 2571 and the loss : 115683.4140625\n",
            "Epoch number: 2581 and the loss : 116080.9140625\n",
            "Epoch number: 2591 and the loss : 116373.3828125\n",
            "Epoch number: 2601 and the loss : 114217.5625\n",
            "Epoch number: 2611 and the loss : 114428.296875\n",
            "Epoch number: 2621 and the loss : 114757.6953125\n",
            "Epoch number: 2631 and the loss : 112699.1796875\n",
            "Epoch number: 2641 and the loss : 112243.3359375\n",
            "Epoch number: 2651 and the loss : 112317.5546875\n",
            "Epoch number: 2661 and the loss : 111490.671875\n",
            "Epoch number: 2671 and the loss : 110854.0703125\n",
            "Epoch number: 2681 and the loss : 110056.4453125\n",
            "Epoch number: 2691 and the loss : 109542.9609375\n",
            "Epoch number: 2701 and the loss : 109682.3984375\n",
            "Epoch number: 2711 and the loss : 109210.5\n",
            "Epoch number: 2721 and the loss : 108873.6015625\n",
            "Epoch number: 2731 and the loss : 108472.9140625\n",
            "Epoch number: 2741 and the loss : 107250.78125\n",
            "Epoch number: 2751 and the loss : 105970.0078125\n",
            "Epoch number: 2761 and the loss : 107710.5\n",
            "Epoch number: 2771 and the loss : 106489.71875\n",
            "Epoch number: 2781 and the loss : 105427.9453125\n",
            "Epoch number: 2791 and the loss : 104684.90625\n",
            "Epoch number: 2801 and the loss : 103748.9921875\n",
            "Epoch number: 2811 and the loss : 103875.453125\n",
            "Epoch number: 2821 and the loss : 102876.7578125\n",
            "Epoch number: 2831 and the loss : 103021.8203125\n",
            "Epoch number: 2841 and the loss : 102346.2421875\n",
            "Epoch number: 2851 and the loss : 101211.7890625\n",
            "Epoch number: 2861 and the loss : 101873.75\n",
            "Epoch number: 2871 and the loss : 100738.0390625\n",
            "Epoch number: 2881 and the loss : 101090.3046875\n",
            "Epoch number: 2891 and the loss : 100430.9140625\n",
            "Epoch number: 2901 and the loss : 98756.5390625\n",
            "Epoch number: 2911 and the loss : 98064.4296875\n",
            "Epoch number: 2921 and the loss : 98462.734375\n",
            "Epoch number: 2931 and the loss : 98852.921875\n",
            "Epoch number: 2941 and the loss : 97153.4140625\n",
            "Epoch number: 2951 and the loss : 97279.7109375\n",
            "Epoch number: 2961 and the loss : 96380.1171875\n",
            "Epoch number: 2971 and the loss : 95292.015625\n",
            "Epoch number: 2981 and the loss : 95266.2109375\n",
            "Epoch number: 2991 and the loss : 96086.5234375\n",
            "Epoch number: 3001 and the loss : 93828.6328125\n",
            "Epoch number: 3011 and the loss : 95379.0\n",
            "Epoch number: 3021 and the loss : 93134.46875\n",
            "Epoch number: 3031 and the loss : 92821.0\n",
            "Epoch number: 3041 and the loss : 92804.8203125\n",
            "Epoch number: 3051 and the loss : 91579.3046875\n",
            "Epoch number: 3061 and the loss : 92023.2421875\n",
            "Epoch number: 3071 and the loss : 91226.75\n",
            "Epoch number: 3081 and the loss : 90992.1640625\n",
            "Epoch number: 3091 and the loss : 90800.7421875\n",
            "Epoch number: 3101 and the loss : 89376.578125\n",
            "Epoch number: 3111 and the loss : 89165.9609375\n",
            "Epoch number: 3121 and the loss : 89257.3203125\n",
            "Epoch number: 3131 and the loss : 87973.1328125\n",
            "Epoch number: 3141 and the loss : 87651.78125\n",
            "Epoch number: 3151 and the loss : 87545.78125\n",
            "Epoch number: 3161 and the loss : 86082.140625\n",
            "Epoch number: 3171 and the loss : 86898.3671875\n",
            "Epoch number: 3181 and the loss : 85788.0546875\n",
            "Epoch number: 3191 and the loss : 84978.4609375\n",
            "Epoch number: 3201 and the loss : 85034.9921875\n",
            "Epoch number: 3211 and the loss : 84092.3359375\n",
            "Epoch number: 3221 and the loss : 82917.921875\n",
            "Epoch number: 3231 and the loss : 86743.375\n",
            "Epoch number: 3241 and the loss : 82261.6796875\n",
            "Epoch number: 3251 and the loss : 83596.421875\n",
            "Epoch number: 3261 and the loss : 81743.1875\n",
            "Epoch number: 3271 and the loss : 81953.453125\n",
            "Epoch number: 3281 and the loss : 81064.7890625\n",
            "Epoch number: 3291 and the loss : 80795.0703125\n",
            "Epoch number: 3301 and the loss : 79730.9765625\n",
            "Epoch number: 3311 and the loss : 79039.265625\n",
            "Epoch number: 3321 and the loss : 79414.4296875\n",
            "Epoch number: 3331 and the loss : 78835.5703125\n",
            "Epoch number: 3341 and the loss : 77525.5234375\n",
            "Epoch number: 3351 and the loss : 77123.953125\n",
            "Epoch number: 3361 and the loss : 76648.4375\n",
            "Epoch number: 3371 and the loss : 76417.609375\n",
            "Epoch number: 3381 and the loss : 76031.0\n",
            "Epoch number: 3391 and the loss : 74741.4296875\n",
            "Epoch number: 3401 and the loss : 74257.9921875\n",
            "Epoch number: 3411 and the loss : 73887.390625\n",
            "Epoch number: 3421 and the loss : 74965.8671875\n",
            "Epoch number: 3431 and the loss : 73704.6953125\n",
            "Epoch number: 3441 and the loss : 72358.5703125\n",
            "Epoch number: 3451 and the loss : 72874.0859375\n",
            "Epoch number: 3461 and the loss : 72220.9140625\n",
            "Epoch number: 3471 and the loss : 70815.640625\n",
            "Epoch number: 3481 and the loss : 71148.71875\n",
            "Epoch number: 3491 and the loss : 70298.4765625\n",
            "Epoch number: 3501 and the loss : 68796.3515625\n",
            "Epoch number: 3511 and the loss : 69187.0546875\n",
            "Epoch number: 3521 and the loss : 68669.984375\n",
            "Epoch number: 3531 and the loss : 68222.28125\n",
            "Epoch number: 3541 and the loss : 68279.0390625\n",
            "Epoch number: 3551 and the loss : 67626.6640625\n",
            "Epoch number: 3561 and the loss : 66280.6484375\n",
            "Epoch number: 3571 and the loss : 66510.7578125\n",
            "Epoch number: 3581 and the loss : 65630.484375\n",
            "Epoch number: 3591 and the loss : 65544.5859375\n",
            "Epoch number: 3601 and the loss : 64083.8359375\n",
            "Epoch number: 3611 and the loss : 64970.3359375\n",
            "Epoch number: 3621 and the loss : 64880.0546875\n",
            "Epoch number: 3631 and the loss : 62741.9765625\n",
            "Epoch number: 3641 and the loss : 64405.984375\n",
            "Epoch number: 3651 and the loss : 62460.25\n",
            "Epoch number: 3661 and the loss : 63742.3984375\n",
            "Epoch number: 3671 and the loss : 61200.25\n",
            "Epoch number: 3681 and the loss : 61021.19140625\n",
            "Epoch number: 3691 and the loss : 62593.109375\n",
            "Epoch number: 3701 and the loss : 60063.89453125\n",
            "Epoch number: 3711 and the loss : 61640.109375\n",
            "Epoch number: 3721 and the loss : 59519.5078125\n",
            "Epoch number: 3731 and the loss : 57376.3984375\n",
            "Epoch number: 3741 and the loss : 57561.171875\n",
            "Epoch number: 3751 and the loss : 58558.140625\n",
            "Epoch number: 3761 and the loss : 59098.03515625\n",
            "Epoch number: 3771 and the loss : 56623.48828125\n",
            "Epoch number: 3781 and the loss : 55324.703125\n",
            "Epoch number: 3791 and the loss : 56704.0703125\n",
            "Epoch number: 3801 and the loss : 55353.51953125\n",
            "Epoch number: 3811 and the loss : 55545.1953125\n",
            "Epoch number: 3821 and the loss : 56566.5703125\n",
            "Epoch number: 3831 and the loss : 54552.9296875\n",
            "Epoch number: 3841 and the loss : 52559.37109375\n",
            "Epoch number: 3851 and the loss : 54665.29296875\n",
            "Epoch number: 3861 and the loss : 54337.296875\n",
            "Epoch number: 3871 and the loss : 52066.36328125\n",
            "Epoch number: 3881 and the loss : 51471.515625\n",
            "Epoch number: 3891 and the loss : 50329.37109375\n",
            "Epoch number: 3901 and the loss : 53308.75390625\n",
            "Epoch number: 3911 and the loss : 51944.72265625\n",
            "Epoch number: 3921 and the loss : 50517.984375\n",
            "Epoch number: 3931 and the loss : 50317.06640625\n",
            "Epoch number: 3941 and the loss : 50253.33984375\n",
            "Epoch number: 3951 and the loss : 49277.1953125\n",
            "Epoch number: 3961 and the loss : 50218.8046875\n",
            "Epoch number: 3971 and the loss : 49284.9140625\n",
            "Epoch number: 3981 and the loss : 49200.671875\n",
            "Epoch number: 3991 and the loss : 50123.0859375\n",
            "Epoch number: 4001 and the loss : 47741.61328125\n",
            "Epoch number: 4011 and the loss : 46259.62890625\n",
            "Epoch number: 4021 and the loss : 49051.00390625\n",
            "Epoch number: 4031 and the loss : 45589.1015625\n",
            "Epoch number: 4041 and the loss : 46642.7734375\n",
            "Epoch number: 4051 and the loss : 47672.09765625\n",
            "Epoch number: 4061 and the loss : 44621.42578125\n",
            "Epoch number: 4071 and the loss : 46758.8046875\n",
            "Epoch number: 4081 and the loss : 44289.96484375\n",
            "Epoch number: 4091 and the loss : 44745.19140625\n",
            "Epoch number: 4101 and the loss : 43977.44921875\n",
            "Epoch number: 4111 and the loss : 43401.75\n",
            "Epoch number: 4121 and the loss : 44114.58984375\n",
            "Epoch number: 4131 and the loss : 43439.41015625\n",
            "Epoch number: 4141 and the loss : 44695.390625\n",
            "Epoch number: 4151 and the loss : 43199.578125\n",
            "Epoch number: 4161 and the loss : 42945.625\n",
            "Epoch number: 4171 and the loss : 41994.71484375\n",
            "Epoch number: 4181 and the loss : 42035.625\n",
            "Epoch number: 4191 and the loss : 41654.78125\n",
            "Epoch number: 4201 and the loss : 42504.0703125\n",
            "Epoch number: 4211 and the loss : 40106.46484375\n",
            "Epoch number: 4221 and the loss : 40419.40234375\n",
            "Epoch number: 4231 and the loss : 42115.20703125\n",
            "Epoch number: 4241 and the loss : 40276.73046875\n",
            "Epoch number: 4251 and the loss : 40200.27734375\n",
            "Epoch number: 4261 and the loss : 40776.7265625\n",
            "Epoch number: 4271 and the loss : 40511.296875\n",
            "Epoch number: 4281 and the loss : 42152.5390625\n",
            "Epoch number: 4291 and the loss : 38884.390625\n",
            "Epoch number: 4301 and the loss : 39921.89453125\n",
            "Epoch number: 4311 and the loss : 41226.91015625\n",
            "Epoch number: 4321 and the loss : 41444.33984375\n",
            "Epoch number: 4331 and the loss : 39135.1875\n",
            "Epoch number: 4341 and the loss : 38832.375\n",
            "Epoch number: 4351 and the loss : 42636.0234375\n",
            "Epoch number: 4361 and the loss : 39211.36328125\n",
            "Epoch number: 4371 and the loss : 38576.765625\n",
            "Epoch number: 4381 and the loss : 38998.28125\n",
            "Epoch number: 4391 and the loss : 44651.49609375\n",
            "Epoch number: 4401 and the loss : 37567.7109375\n",
            "Epoch number: 4411 and the loss : 38076.6640625\n",
            "Epoch number: 4421 and the loss : 38687.90234375\n",
            "Epoch number: 4431 and the loss : 38564.6484375\n",
            "Epoch number: 4441 and the loss : 37825.734375\n",
            "Epoch number: 4451 and the loss : 38126.07421875\n",
            "Epoch number: 4461 and the loss : 37413.8125\n",
            "Epoch number: 4471 and the loss : 37605.21484375\n",
            "Epoch number: 4481 and the loss : 36410.296875\n",
            "Epoch number: 4491 and the loss : 37295.18359375\n",
            "Epoch number: 4501 and the loss : 37910.7890625\n",
            "Epoch number: 4511 and the loss : 37313.8046875\n",
            "Epoch number: 4521 and the loss : 36820.57421875\n",
            "Epoch number: 4531 and the loss : 37243.27734375\n",
            "Epoch number: 4541 and the loss : 34737.62890625\n",
            "Epoch number: 4551 and the loss : 34619.546875\n",
            "Epoch number: 4561 and the loss : 36383.125\n",
            "Epoch number: 4571 and the loss : 38629.25\n",
            "Epoch number: 4581 and the loss : 36459.76171875\n",
            "Epoch number: 4591 and the loss : 34667.828125\n",
            "Epoch number: 4601 and the loss : 37050.0078125\n",
            "Epoch number: 4611 and the loss : 35037.0546875\n",
            "Epoch number: 4621 and the loss : 35263.10546875\n",
            "Epoch number: 4631 and the loss : 36525.7890625\n",
            "Epoch number: 4641 and the loss : 36581.46484375\n",
            "Epoch number: 4651 and the loss : 35637.98828125\n",
            "Epoch number: 4661 and the loss : 35142.4453125\n",
            "Epoch number: 4671 and the loss : 37281.671875\n",
            "Epoch number: 4681 and the loss : 36623.58203125\n",
            "Epoch number: 4691 and the loss : 37962.87890625\n",
            "Epoch number: 4701 and the loss : 34596.4296875\n",
            "Epoch number: 4711 and the loss : 33689.578125\n",
            "Epoch number: 4721 and the loss : 36609.9375\n",
            "Epoch number: 4731 and the loss : 37582.71484375\n",
            "Epoch number: 4741 and the loss : 35001.8125\n",
            "Epoch number: 4751 and the loss : 35884.18359375\n",
            "Epoch number: 4761 and the loss : 35811.3671875\n",
            "Epoch number: 4771 and the loss : 34319.26953125\n",
            "Epoch number: 4781 and the loss : 34041.2734375\n",
            "Epoch number: 4791 and the loss : 35083.9453125\n",
            "Epoch number: 4801 and the loss : 35675.6875\n",
            "Epoch number: 4811 and the loss : 34616.7890625\n",
            "Epoch number: 4821 and the loss : 35010.38671875\n",
            "Epoch number: 4831 and the loss : 36622.81640625\n",
            "Epoch number: 4841 and the loss : 34937.5625\n",
            "Epoch number: 4851 and the loss : 36318.83203125\n",
            "Epoch number: 4861 and the loss : 35907.99609375\n",
            "Epoch number: 4871 and the loss : 35093.9765625\n",
            "Epoch number: 4881 and the loss : 36670.26171875\n",
            "Epoch number: 4891 and the loss : 34500.3359375\n",
            "Epoch number: 4901 and the loss : 35502.53125\n",
            "Epoch number: 4911 and the loss : 34553.87890625\n",
            "Epoch number: 4921 and the loss : 34540.921875\n",
            "Epoch number: 4931 and the loss : 35913.97265625\n",
            "Epoch number: 4941 and the loss : 36419.62109375\n",
            "Epoch number: 4951 and the loss : 34752.6875\n",
            "Epoch number: 4961 and the loss : 34748.6171875\n",
            "Epoch number: 4971 and the loss : 36351.0859375\n",
            "Epoch number: 4981 and the loss : 35643.12890625\n",
            "Epoch number: 4991 and the loss : 34916.125\n"
          ],
          "name": "stdout"
        }
      ]
    },
    {
      "cell_type": "code",
      "metadata": {
        "id": "8-M8RsBdyISC",
        "colab_type": "code",
        "colab": {
          "base_uri": "https://localhost:8080/",
          "height": 279
        },
        "outputId": "2442c534-3a05-4057-b105-15aa759e9241"
      },
      "source": [
        "\n",
        "import matplotlib.pyplot as plt\n",
        "%matplotlib inline\n",
        "plt.plot(range(epochs), final_losses)\n",
        "plt.ylabel('RMSE Loss')\n",
        "plt.xlabel('epoch');"
      ],
      "execution_count": 78,
      "outputs": [
        {
          "output_type": "display_data",
          "data": {
            "image/png": "[encoded data removed]",
            "text/plain": [
              "<Figure size 432x288 with 1 Axes>"
            ]
          },
          "metadata": {
            "tags": [],
            "needs_background": "light"
          }
        }
      ]
    },
    {
      "cell_type": "code",
      "metadata": {
        "id": "dK-doHgj1D_d",
        "colab_type": "code",
        "colab": {
          "base_uri": "https://localhost:8080/",
          "height": 34
        },
        "outputId": "019a0701-6a04-4f4e-fee7-88381394c96d"
      },
      "source": [
        "y_pred=\"\"\n",
        "with torch.no_grad():\n",
        "    y_pred=model(test_categorical,test_cont)\n",
        "    loss=torch.sqrt(loss_function(y_pred,y_test))\n",
        "print('RMSE: {}'.format(loss))"
      ],
      "execution_count": 79,
      "outputs": [
        {
          "output_type": "stream",
          "text": [
            "RMSE: 44985.57421875\n"
          ],
          "name": "stdout"
        }
      ]
    },
    {
      "cell_type": "code",
      "metadata": {
        "id": "xN0UXPjI16aI",
        "colab_type": "code",
        "colab": {}
      },
      "source": [
        "#### Saving The Model\n",
        "#### Save the model\n",
        "torch.save(model,'HousePrice.pt')"
      ],
      "execution_count": 80,
      "outputs": []
    },
    {
      "cell_type": "code",
      "metadata": {
        "id": "Qxgu7MeU2h2b",
        "colab_type": "code",
        "colab": {}
      },
      "source": [
        "\n",
        "torch.save(model.state_dict(),'HouseWeights.pt')"
      ],
      "execution_count": 81,
      "outputs": []
    },
    {
      "cell_type": "code",
      "metadata": {
        "id": "RlgFzg3E2ntF",
        "colab_type": "code",
        "colab": {}
      },
      "source": [
        "### Loading the saved Model\n",
        "embs_size=[(15, 8), (5, 3), (2, 1), (4, 2)]\n",
        "model1=FeedForwardNN(embs_size,5,1,[100,50],p=0.4)"
      ],
      "execution_count": 82,
      "outputs": []
    },
    {
      "cell_type": "code",
      "metadata": {
        "id": "zpQgH4ob2s1J",
        "colab_type": "code",
        "colab": {
          "base_uri": "https://localhost:8080/",
          "height": 34
        },
        "outputId": "471c6504-b401-47fb-ec64-26f1bffe1467"
      },
      "source": [
        "model1.load_state_dict(torch.load('HouseWeights.pt'))"
      ],
      "execution_count": 83,
      "outputs": [
        {
          "output_type": "execute_result",
          "data": {
            "text/plain": [
              "<All keys matched successfully>"
            ]
          },
          "metadata": {
            "tags": []
          },
          "execution_count": 83
        }
      ]
    },
    {
      "cell_type": "code",
      "metadata": {
        "id": "2_X6GAcq3MDT",
        "colab_type": "code",
        "colab": {
          "base_uri": "https://localhost:8080/",
          "height": 374
        },
        "outputId": "2859cf05-806a-4559-aecc-0810a247b7b0"
      },
      "source": [
        "model1.eval()"
      ],
      "execution_count": 84,
      "outputs": [
        {
          "output_type": "execute_result",
          "data": {
            "text/plain": [
              "FeedForwardNN(\n",
              "  (embeds): ModuleList(\n",
              "    (0): Embedding(15, 8)\n",
              "    (1): Embedding(5, 3)\n",
              "    (2): Embedding(2, 1)\n",
              "    (3): Embedding(4, 2)\n",
              "  )\n",
              "  (emb_drop): Dropout(p=0.4, inplace=False)\n",
              "  (bn_cont): BatchNorm1d(5, eps=1e-05, momentum=0.1, affine=True, track_running_stats=True)\n",
              "  (layers): Sequential(\n",
              "    (0): Linear(in_features=19, out_features=100, bias=True)\n",
              "    (1): ReLU(inplace=True)\n",
              "    (2): BatchNorm1d(100, eps=1e-05, momentum=0.1, affine=True, track_running_stats=True)\n",
              "    (3): Dropout(p=0.4, inplace=False)\n",
              "    (4): Linear(in_features=100, out_features=50, bias=True)\n",
              "    (5): ReLU(inplace=True)\n",
              "    (6): BatchNorm1d(50, eps=1e-05, momentum=0.1, affine=True, track_running_stats=True)\n",
              "    (7): Dropout(p=0.4, inplace=False)\n",
              "    (8): Linear(in_features=50, out_features=1, bias=True)\n",
              "  )\n",
              ")"
            ]
          },
          "metadata": {
            "tags": []
          },
          "execution_count": 84
        }
      ]
    },
    {
      "cell_type": "code",
      "metadata": {
        "id": "gjXbzcB23OeB",
        "colab_type": "code",
        "colab": {}
      },
      "source": [
        ""
      ],
      "execution_count": null,
      "outputs": []
    }
  ]
}